{
 "cells": [
  {
   "cell_type": "markdown",
   "metadata": {},
   "source": [
    "<center>\n",
    "    <img src=\"https://cf-courses-data.s3.us.cloud-object-storage.appdomain.cloud/IBMDeveloperSkillsNetwork-DS0105EN-SkillsNetwork/labs/Module2/images/SN_web_lightmode.png\" width=\"300\" alt=\"cognitiveclass.ai logo\">\n",
    "</center>\n"
   ]
  },
  {
   "cell_type": "markdown",
   "metadata": {},
   "source": [
    "#### Add your code below following the instructions given in the course\n"
   ]
  },
  {
   "cell_type": "markdown",
   "metadata": {},
   "source": [
    "# My Jupyter Notebook on IBM Watson Studio"
   ]
  },
  {
   "cell_type": "markdown",
   "metadata": {},
   "source": [
    "**Elisabet Rank**\n",
    "\n",
    "working in the field of Medical Physics"
   ]
  },
  {
   "cell_type": "markdown",
   "metadata": {},
   "source": [
    "_I am interested in Data Science because you can get so much information out of data that is lying around all over the internet. Specifically, I want to use data science to help detecting retinal (pathological) changes earlier in order for therapy to be more effective_"
   ]
  },
  {
   "cell_type": "markdown",
   "metadata": {},
   "source": [
    "##### The following function returns 'fizz' if the input number (input1) is dividable by 3, 'buzz' if the number is dividable by 5 and 'fizzbuzz' if the input is dividable by 3 and 5:"
   ]
  },
  {
   "cell_type": "code",
   "execution_count": 3,
   "metadata": {},
   "outputs": [
    {
     "name": "stdout",
     "output_type": "stream",
     "text": [
      "FizzBuzz\n"
     ]
    }
   ],
   "source": [
    "def fizz_buzz(input1):\n",
    "    if input1 % 3 == 0 and input1 % 5 == 0:\n",
    "        return \"FizzBuzz\"\n",
    "\n",
    "    elif input1 % 5 == 0:\n",
    "        return \"buzz\"\n",
    "    elif input1 % 3 == 0:\n",
    "        return \"fizz\"\n",
    "    else:\n",
    "        return input1\n",
    "\n",
    "print(fizz_buzz(15))"
   ]
  },
  {
   "cell_type": "markdown",
   "metadata": {},
   "source": [
    "![FizzBuzz](https://www.ezrahill.co.uk/wp-content/2019/04/DraggedImage-672x372.png)\n",
    "\n",
    "1. This\n",
    "1. is\n",
    "1. a picture\n",
    "1. of FIZZBUZZ!\n",
    "\n",
    "| Number | First Name | Last Name |\n",
    "| --- | --- | --- |\n",
    "| 1 | Fizz | Buzz |\n",
    "| 2 | Buzz | Fizz |"
   ]
  },
  {
   "cell_type": "code",
   "execution_count": null,
   "metadata": {},
   "outputs": [],
   "source": []
  }
 ],
 "metadata": {
  "kernelspec": {
   "display_name": "Python",
   "language": "python",
   "name": "conda-env-python-py"
  },
  "language_info": {
   "codemirror_mode": {
    "name": "ipython",
    "version": 3
   },
   "file_extension": ".py",
   "mimetype": "text/x-python",
   "name": "python",
   "nbconvert_exporter": "python",
   "pygments_lexer": "ipython3",
   "version": "3.7.12"
  }
 },
 "nbformat": 4,
 "nbformat_minor": 4
}
